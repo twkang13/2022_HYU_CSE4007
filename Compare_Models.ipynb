{
  "cells": [
    {
      "cell_type": "code",
      "execution_count": 2,
      "metadata": {
        "id": "f7OKP2qWRbZo"
      },
      "outputs": [
        {
          "ename": "ModuleNotFoundError",
          "evalue": "No module named 'matplotlib'",
          "output_type": "error",
          "traceback": [
            "\u001b[0;31m---------------------------------------------------------------------------\u001b[0m",
            "\u001b[0;31mModuleNotFoundError\u001b[0m                       Traceback (most recent call last)",
            "Cell \u001b[0;32mIn[2], line 1\u001b[0m\n\u001b[0;32m----> 1\u001b[0m \u001b[39mimport\u001b[39;00m \u001b[39mmatplotlib\u001b[39;00m\u001b[39m.\u001b[39;00m\u001b[39mpyplot\u001b[39;00m \u001b[39mas\u001b[39;00m \u001b[39mplt\u001b[39;00m\n\u001b[1;32m      2\u001b[0m \u001b[39mimport\u001b[39;00m \u001b[39mnumpy\u001b[39;00m \u001b[39mas\u001b[39;00m \u001b[39mnp\u001b[39;00m\n\u001b[1;32m      3\u001b[0m \u001b[39mimport\u001b[39;00m \u001b[39mtime\u001b[39;00m\n",
            "\u001b[0;31mModuleNotFoundError\u001b[0m: No module named 'matplotlib'"
          ]
        }
      ],
      "source": [
        "import matplotlib.pyplot as plt\n",
        "import numpy as np\n",
        "import time"
      ]
    },
    {
      "cell_type": "code",
      "execution_count": 3,
      "metadata": {
        "id": "n7e_E40fUM8v"
      },
      "outputs": [
        {
          "ename": "ModuleNotFoundError",
          "evalue": "No module named 'sklearn'",
          "output_type": "error",
          "traceback": [
            "\u001b[0;31m---------------------------------------------------------------------------\u001b[0m",
            "\u001b[0;31mModuleNotFoundError\u001b[0m                       Traceback (most recent call last)",
            "Cell \u001b[0;32mIn[3], line 1\u001b[0m\n\u001b[0;32m----> 1\u001b[0m \u001b[39mfrom\u001b[39;00m \u001b[39msklearn\u001b[39;00m \u001b[39mimport\u001b[39;00m datasets\n\u001b[1;32m      2\u001b[0m digits \u001b[39m=\u001b[39m datasets\u001b[39m.\u001b[39mload_digits()\n",
            "\u001b[0;31mModuleNotFoundError\u001b[0m: No module named 'sklearn'"
          ]
        }
      ],
      "source": [
        "from sklearn import datasets\n",
        "digits = datasets.load_digits()"
      ]
    },
    {
      "cell_type": "code",
      "execution_count": null,
      "metadata": {
        "colab": {
          "base_uri": "https://localhost:8080/",
          "height": 118
        },
        "id": "uraj80YeSzvD",
        "outputId": "a76f1218-9556-4507-91b1-22230187b9c3"
      },
      "outputs": [
        {
          "data": {
            "image/png": "[encoded data removed]",
            "text/plain": [
              "<Figure size 1080x216 with 10 Axes>"
            ]
          },
          "metadata": {
            "needs_background": "light"
          },
          "output_type": "display_data"
        }
      ],
      "source": [
        "# MNIST 데이터 셋 출력\n",
        "digits = datasets.load_digits()\n",
        "\n",
        "_, axes = plt.subplots(nrows=1, ncols=10, figsize=(15,3))\n",
        "for ax, image, label in zip(axes, digits.images, digits.target):\n",
        "  ax.set_axis_off()\n",
        "  ax.imshow(image, cmap=plt.cm.gray_r, interpolation=\"nearest\")\n",
        "  ax.set_title(\"Training: %i\" %label)"
      ]
    },
    {
      "cell_type": "code",
      "execution_count": null,
      "metadata": {
        "colab": {
          "base_uri": "https://localhost:8080/"
        },
        "id": "nLpRJrSTbCgG",
        "outputId": "c0fa163a-8685-44d6-be9a-fe0fd29464cd"
      },
      "outputs": [
        {
          "name": "stdout",
          "output_type": "stream",
          "text": [
            "[[ 0.  0.  0. 12. 13.  5.  0.  0.]\n",
            " [ 0.  0.  0. 11. 16.  9.  0.  0.]\n",
            " [ 0.  0.  3. 15. 16.  6.  0.  0.]\n",
            " [ 0.  7. 15. 16. 16.  2.  0.  0.]\n",
            " [ 0.  0.  1. 16. 16.  3.  0.  0.]\n",
            " [ 0.  0.  1. 16. 16.  6.  0.  0.]\n",
            " [ 0.  0.  1. 16. 16.  6.  0.  0.]\n",
            " [ 0.  0.  0. 11. 16. 10.  0.  0.]]\n"
          ]
        }
      ],
      "source": [
        "# 숫자의 각 픽셀은 다음과 같이 표시됨\n",
        "print(digits.images[1])"
      ]
    },
    {
      "cell_type": "code",
      "execution_count": null,
      "metadata": {
        "colab": {
          "base_uri": "https://localhost:8080/"
        },
        "id": "-b3RPPIFYMJl",
        "outputId": "ab1a757f-112c-48d1-8478-0949c9f3ecb8"
      },
      "outputs": [
        {
          "name": "stdout",
          "output_type": "stream",
          "text": [
            "(1797, 8, 8) (1797,)\n"
          ]
        }
      ],
      "source": [
        "print(digits.images.shape, digits.target.shape)"
      ]
    },
    {
      "cell_type": "code",
      "execution_count": null,
      "metadata": {
        "colab": {
          "base_uri": "https://localhost:8080/"
        },
        "id": "9bcw4j0YU3tr",
        "outputId": "abf1dc4f-a823-47e7-e4b2-8d1095b0ecc2"
      },
      "outputs": [
        {
          "name": "stdout",
          "output_type": "stream",
          "text": [
            "(1797, 64) (1797,)\n"
          ]
        }
      ],
      "source": [
        "# X, y 설정\n",
        "# X는 3차원이므로 이를 2차원으로 변경\n",
        "n_samples = len(digits.images)\n",
        "X = digits.images.reshape(n_samples, -1)\n",
        "y = digits.target\n",
        "\n",
        "print(X.shape, y.shape)"
      ]
    },
    {
      "cell_type": "code",
      "execution_count": null,
      "metadata": {
        "id": "EFvrdzafVVT2"
      },
      "outputs": [],
      "source": [
        "from sklearn.linear_model import LogisticRegression\n",
        "from sklearn.linear_model import SGDClassifier\n",
        "from sklearn.discriminant_analysis import LinearDiscriminantAnalysis\n",
        "from sklearn.neural_network import MLPClassifier\n",
        "from sklearn.svm import SVC\n",
        "from sklearn.naive_bayes import GaussianNB\n",
        "from sklearn.naive_bayes import MultinomialNB\n",
        "from sklearn.neighbors import KNeighborsClassifier as KNC\n",
        "from sklearn.model_selection import train_test_split"
      ]
    },
    {
      "cell_type": "code",
      "execution_count": null,
      "metadata": {
        "id": "X45erdSSoxbQ"
      },
      "outputs": [],
      "source": [
        "names = [\n",
        "    \"Logistic Regression\",\n",
        "    \"Stochastic Gradient Descent\",\n",
        "    \"LDA\",\n",
        "    \"Multi-layer Perceptron\",\n",
        "    \"Linear SVM\",\n",
        "    \"Non-linear SVM\",\n",
        "    \"Gaussian Naive Bayes\",\n",
        "    \"Multinomial Naive Bayes\",\n",
        "    \"k-NN\"\n",
        "]"
      ]
    },
    {
      "cell_type": "code",
      "execution_count": null,
      "metadata": {
        "id": "YtBsLbvkmI2b"
      },
      "outputs": [],
      "source": [
        "classifiers = [\n",
        "    LogisticRegression(multi_class=\"multinomial\"), # soft-max 사용, converge 위해 max_iter=5000\n",
        "    SGDClassifier(),\n",
        "    LinearDiscriminantAnalysis(),\n",
        "    MLPClassifier(),\n",
        "    SVC(kernel=\"linear\"),\n",
        "    SVC(),\n",
        "    GaussianNB(),\n",
        "    MultinomialNB(),\n",
        "    KNC()\n",
        "]"
      ]
    },
    {
      "cell_type": "code",
      "execution_count": null,
      "metadata": {
        "id": "o4BmqqJ_rBqq"
      },
      "outputs": [],
      "source": [
        "from sklearn import metrics"
      ]
    },
    {
      "cell_type": "code",
      "execution_count": null,
      "metadata": {
        "id": "zgGqGeAqw1i3"
      },
      "outputs": [],
      "source": [
        "iteration = 1000"
      ]
    },
    {
      "cell_type": "code",
      "execution_count": null,
      "metadata": {
        "colab": {
          "base_uri": "https://localhost:8080/",
          "height": 1000
        },
        "id": "LsHHyq5iVRxO",
        "outputId": "328ecbc4-0430-4d04-b95a-73f1cfb8d07b"
      },
      "outputs": [
        {
          "name": "stdout",
          "output_type": "stream",
          "text": [
            "iteration #0\n"
          ]
        },
        {
          "name": "stderr",
          "output_type": "stream",
          "text": [
            "/usr/local/lib/python3.8/dist-packages/sklearn/linear_model/_logistic.py:814: ConvergenceWarning: lbfgs failed to converge (status=1):\n",
            "STOP: TOTAL NO. of ITERATIONS REACHED LIMIT.\n",
            "\n",
            "Increase the number of iterations (max_iter) or scale the data as shown in:\n",
            "    https://scikit-learn.org/stable/modules/preprocessing.html\n",
            "Please also refer to the documentation for alternative solver options:\n",
            "    https://scikit-learn.org/stable/modules/linear_model.html#logistic-regression\n",
            "  n_iter_i = _check_optimize_result(\n"
          ]
        },
        {
          "name": "stdout",
          "output_type": "stream",
          "text": [
            "----- Logistic Regression -----\n",
            "Accuracy # 0  :  0.9722222222222222\n",
            "Learning Time # 0  :  0.6900539398193359\n",
            "Prediction Time # 0  :  0.001550912857055664\n",
            "\n",
            "Classification report for classifier LogisticRegression(multi_class='multinomial'):\n",
            "              precision    recall  f1-score   support\n",
            "\n",
            "           0       1.00      1.00      1.00        35\n",
            "           1       0.94      0.94      0.94        35\n",
            "           2       0.97      1.00      0.99        38\n",
            "           3       0.98      1.00      0.99        43\n",
            "           4       0.97      1.00      0.99        33\n",
            "           5       1.00      0.89      0.94        35\n",
            "           6       0.97      1.00      0.99        36\n",
            "           7       0.97      0.97      0.97        34\n",
            "           8       0.97      0.94      0.96        36\n",
            "           9       0.94      0.97      0.96        35\n",
            "\n",
            "    accuracy                           0.97       360\n",
            "   macro avg       0.97      0.97      0.97       360\n",
            "weighted avg       0.97      0.97      0.97       360\n",
            "\n",
            "\n",
            "Confusion matrix:\n",
            "[[35  0  0  0  0  0  0  0  0  0]\n",
            " [ 0 33  1  1  0  0  0  0  0  0]\n",
            " [ 0  0 38  0  0  0  0  0  0  0]\n",
            " [ 0  0  0 43  0  0  0  0  0  0]\n",
            " [ 0  0  0  0 33  0  0  0  0  0]\n",
            " [ 0  0  0  0  1 31  1  1  0  1]\n",
            " [ 0  0  0  0  0  0 36  0  0  0]\n",
            " [ 0  0  0  0  0  0  0 33  0  1]\n",
            " [ 0  2  0  0  0  0  0  0 34  0]\n",
            " [ 0  0  0  0  0  0  0  0  1 34]]\n"
          ]
        },
        {
          "data": {
            "image/png": "[encoded data removed]",
            "text/plain": [
              "<Figure size 432x288 with 2 Axes>"
            ]
          },
          "metadata": {
            "needs_background": "light"
          },
          "output_type": "display_data"
        },
        {
          "name": "stdout",
          "output_type": "stream",
          "text": [
            "----- Stochastic Gradient Descent -----\n",
            "Accuracy # 0  :  0.975\n",
            "Learning Time # 0  :  0.166243314743042\n",
            "Prediction Time # 0  :  0.0006074905395507812\n",
            "\n",
            "Classification report for classifier SGDClassifier():\n",
            "              precision    recall  f1-score   support\n",
            "\n",
            "           0       1.00      1.00      1.00        35\n",
            "           1       0.90      1.00      0.95        35\n",
            "           2       1.00      0.95      0.97        38\n",
            "           3       0.93      1.00      0.97        43\n",
            "           4       1.00      1.00      1.00        33\n",
            "           5       1.00      0.97      0.99        35\n",
            "           6       1.00      1.00      1.00        36\n",
            "           7       0.97      0.94      0.96        34\n",
            "           8       1.00      0.94      0.97        36\n",
            "           9       0.97      0.94      0.96        35\n",
            "\n",
            "    accuracy                           0.97       360\n",
            "   macro avg       0.98      0.97      0.98       360\n",
            "weighted avg       0.98      0.97      0.98       360\n",
            "\n",
            "\n",
            "Confusion matrix:\n",
            "[[35  0  0  0  0  0  0  0  0  0]\n",
            " [ 0 35  0  0  0  0  0  0  0  0]\n",
            " [ 0  0 36  1  0  0  0  1  0  0]\n",
            " [ 0  0  0 43  0  0  0  0  0  0]\n",
            " [ 0  0  0  0 33  0  0  0  0  0]\n",
            " [ 0  0  0  1  0 34  0  0  0  0]\n",
            " [ 0  0  0  0  0  0 36  0  0  0]\n",
            " [ 0  1  0  0  0  0  0 32  0  1]\n",
            " [ 0  2  0  0  0  0  0  0 34  0]\n",
            " [ 0  1  0  1  0  0  0  0  0 33]]\n"
          ]
        },
        {
          "data": {
            "image/png": "[encoded data removed]",
            "text/plain": [
              "<Figure size 432x288 with 2 Axes>"
            ]
          },
          "metadata": {
            "needs_background": "light"
          },
          "output_type": "display_data"
        },
        {
          "name": "stdout",
          "output_type": "stream",
          "text": [
            "----- LDA -----\n",
            "Accuracy # 0  :  0.9638888888888889\n",
            "Learning Time # 0  :  0.07476091384887695\n",
            "Prediction Time # 0  :  0.0006990432739257812\n",
            "\n",
            "Classification report for classifier LinearDiscriminantAnalysis():\n",
            "              precision    recall  f1-score   support\n",
            "\n",
            "           0       1.00      1.00      1.00        35\n",
            "           1       0.97      0.97      0.97        35\n",
            "           2       1.00      0.95      0.97        38\n",
            "           3       0.95      0.98      0.97        43\n",
            "           4       1.00      0.97      0.98        33\n",
            "           5       0.97      0.91      0.94        35\n",
            "           6       0.97      1.00      0.99        36\n",
            "           7       0.97      0.97      0.97        34\n",
            "           8       0.94      0.94      0.94        36\n",
            "           9       0.87      0.94      0.90        35\n",
            "\n",
            "    accuracy                           0.96       360\n",
            "   macro avg       0.97      0.96      0.96       360\n",
            "weighted avg       0.97      0.96      0.96       360\n",
            "\n",
            "\n",
            "Confusion matrix:\n",
            "[[35  0  0  0  0  0  0  0  0  0]\n",
            " [ 0 34  0  0  0  0  0  0  0  1]\n",
            " [ 0  0 36  2  0  0  0  0  0  0]\n",
            " [ 0  0  0 42  0  0  0  0  1  0]\n",
            " [ 0  0  0  0 32  0  0  1  0  0]\n",
            " [ 0  0  0  0  0 32  1  0  0  2]\n",
            " [ 0  0  0  0  0  0 36  0  0  0]\n",
            " [ 0  0  0  0  0  0  0 33  0  1]\n",
            " [ 0  1  0  0  0  0  0  0 34  1]\n",
            " [ 0  0  0  0  0  1  0  0  1 33]]\n"
          ]
        },
        {
          "data": {
            "image/png": "[encoded data removed]",
            "text/plain": [
              "<Figure size 432x288 with 2 Axes>"
            ]
          },
          "metadata": {
            "needs_background": "light"
          },
          "output_type": "display_data"
        },
        {
          "name": "stdout",
          "output_type": "stream",
          "text": [
            "----- Multi-layer Perceptron -----\n",
            "Accuracy # 0  :  0.9722222222222222\n",
            "Learning Time # 0  :  5.507149696350098\n",
            "Prediction Time # 0  :  0.0017085075378417969\n",
            "\n",
            "Classification report for classifier MLPClassifier():\n",
            "              precision    recall  f1-score   support\n",
            "\n",
            "           0       1.00      1.00      1.00        35\n",
            "           1       0.97      0.97      0.97        35\n",
            "           2       1.00      0.97      0.99        38\n",
            "           3       1.00      0.95      0.98        43\n",
            "           4       1.00      1.00      1.00        33\n",
            "           5       0.94      0.97      0.96        35\n",
            "           6       0.97      1.00      0.99        36\n",
            "           7       0.94      0.97      0.96        34\n",
            "           8       0.94      0.94      0.94        36\n",
            "           9       0.94      0.94      0.94        35\n",
            "\n",
            "    accuracy                           0.97       360\n",
            "   macro avg       0.97      0.97      0.97       360\n",
            "weighted avg       0.97      0.97      0.97       360\n",
            "\n",
            "\n",
            "Confusion matrix:\n",
            "[[35  0  0  0  0  0  0  0  0  0]\n",
            " [ 0 34  0  0  0  0  0  0  0  1]\n",
            " [ 0  0 37  0  0  0  0  1  0  0]\n",
            " [ 0  0  0 41  0  0  0  0  1  1]\n",
            " [ 0  0  0  0 33  0  0  0  0  0]\n",
            " [ 0  0  0  0  0 34  1  0  0  0]\n",
            " [ 0  0  0  0  0  0 36  0  0  0]\n",
            " [ 0  0  0  0  0  1  0 33  0  0]\n",
            " [ 0  1  0  0  0  0  0  1 34  0]\n",
            " [ 0  0  0  0  0  1  0  0  1 33]]\n"
          ]
        },
        {
          "data": {
            "image/png": "[encoded data removed]",
            "text/plain": [
              "<Figure size 432x288 with 2 Axes>"
            ]
          },
          "metadata": {
            "needs_background": "light"
          },
          "output_type": "display_data"
        },
        {
          "name": "stdout",
          "output_type": "stream",
          "text": [
            "----- Linear SVM -----\n",
            "Accuracy # 0  :  0.9944444444444445\n",
            "Learning Time # 0  :  0.06251931190490723\n",
            "Prediction Time # 0  :  0.0174100399017334\n",
            "\n",
            "Classification report for classifier SVC(kernel='linear'):\n",
            "              precision    recall  f1-score   support\n",
            "\n",
            "           0       1.00      1.00      1.00        35\n",
            "           1       0.97      1.00      0.99        35\n",
            "           2       1.00      1.00      1.00        38\n",
            "           3       1.00      1.00      1.00        43\n",
            "           4       1.00      1.00      1.00        33\n",
            "           5       1.00      1.00      1.00        35\n",
            "           6       1.00      1.00      1.00        36\n",
            "           7       1.00      0.97      0.99        34\n",
            "           8       1.00      0.97      0.99        36\n",
            "           9       0.97      1.00      0.99        35\n",
            "\n",
            "    accuracy                           0.99       360\n",
            "   macro avg       0.99      0.99      0.99       360\n",
            "weighted avg       0.99      0.99      0.99       360\n",
            "\n",
            "\n",
            "Confusion matrix:\n",
            "[[35  0  0  0  0  0  0  0  0  0]\n",
            " [ 0 35  0  0  0  0  0  0  0  0]\n",
            " [ 0  0 38  0  0  0  0  0  0  0]\n",
            " [ 0  0  0 43  0  0  0  0  0  0]\n",
            " [ 0  0  0  0 33  0  0  0  0  0]\n",
            " [ 0  0  0  0  0 35  0  0  0  0]\n",
            " [ 0  0  0  0  0  0 36  0  0  0]\n",
            " [ 0  0  0  0  0  0  0 33  0  1]\n",
            " [ 0  1  0  0  0  0  0  0 35  0]\n",
            " [ 0  0  0  0  0  0  0  0  0 35]]\n"
          ]
        },
        {
          "data": {
            "image/png": "[encoded data removed]",
            "text/plain": [
              "<Figure size 432x288 with 2 Axes>"
            ]
          },
          "metadata": {
            "needs_background": "light"
          },
          "output_type": "display_data"
        },
        {
          "name": "stdout",
          "output_type": "stream",
          "text": [
            "----- Non-linear SVM -----\n",
            "Accuracy # 0  :  0.9888888888888889\n",
            "Learning Time # 0  :  0.09426641464233398\n",
            "Prediction Time # 0  :  0.047400712966918945\n",
            "\n",
            "Classification report for classifier SVC():\n",
            "              precision    recall  f1-score   support\n",
            "\n",
            "           0       1.00      1.00      1.00        35\n",
            "           1       0.97      1.00      0.99        35\n",
            "           2       1.00      1.00      1.00        38\n",
            "           3       1.00      1.00      1.00        43\n",
            "           4       1.00      1.00      1.00        33\n",
            "           5       0.97      1.00      0.99        35\n",
            "           6       1.00      1.00      1.00        36\n",
            "           7       1.00      0.97      0.99        34\n",
            "           8       0.97      0.97      0.97        36\n",
            "           9       0.97      0.94      0.96        35\n",
            "\n",
            "    accuracy                           0.99       360\n",
            "   macro avg       0.99      0.99      0.99       360\n",
            "weighted avg       0.99      0.99      0.99       360\n",
            "\n",
            "\n",
            "Confusion matrix:\n",
            "[[35  0  0  0  0  0  0  0  0  0]\n",
            " [ 0 35  0  0  0  0  0  0  0  0]\n",
            " [ 0  0 38  0  0  0  0  0  0  0]\n",
            " [ 0  0  0 43  0  0  0  0  0  0]\n",
            " [ 0  0  0  0 33  0  0  0  0  0]\n",
            " [ 0  0  0  0  0 35  0  0  0  0]\n",
            " [ 0  0  0  0  0  0 36  0  0  0]\n",
            " [ 0  0  0  0  0  0  0 33  0  1]\n",
            " [ 0  1  0  0  0  0  0  0 35  0]\n",
            " [ 0  0  0  0  0  1  0  0  1 33]]\n"
          ]
        },
        {
          "data": {
            "image/png": "[encoded data removed]",
            "text/plain": [
              "<Figure size 432x288 with 2 Axes>"
            ]
          },
          "metadata": {
            "needs_background": "light"
          },
          "output_type": "display_data"
        },
        {
          "name": "stdout",
          "output_type": "stream",
          "text": [
            "----- Gaussian Naive Bayes -----\n",
            "Accuracy # 0  :  0.8638888888888889\n",
            "Learning Time # 0  :  0.0037915706634521484\n",
            "Prediction Time # 0  :  0.002575397491455078\n",
            "\n",
            "Classification report for classifier GaussianNB():\n",
            "              precision    recall  f1-score   support\n",
            "\n",
            "           0       1.00      0.97      0.99        35\n",
            "           1       0.92      0.69      0.79        35\n",
            "           2       0.93      0.71      0.81        38\n",
            "           3       0.88      0.86      0.87        43\n",
            "           4       1.00      0.94      0.97        33\n",
            "           5       0.91      0.89      0.90        35\n",
            "           6       0.97      1.00      0.99        36\n",
            "           7       0.79      0.97      0.87        34\n",
            "           8       0.56      0.92      0.69        36\n",
            "           9       0.96      0.71      0.82        35\n",
            "\n",
            "    accuracy                           0.86       360\n",
            "   macro avg       0.89      0.87      0.87       360\n",
            "weighted avg       0.89      0.86      0.87       360\n",
            "\n",
            "\n",
            "Confusion matrix:\n",
            "[[34  0  0  0  0  0  0  1  0  0]\n",
            " [ 0 24  1  0  0  0  0  2  7  1]\n",
            " [ 0  1 27  0  0  0  0  0 10  0]\n",
            " [ 0  0  1 37  0  0  0  0  5  0]\n",
            " [ 0  0  0  0 31  0  0  2  0  0]\n",
            " [ 0  0  0  1  0 31  1  1  1  0]\n",
            " [ 0  0  0  0  0  0 36  0  0  0]\n",
            " [ 0  0  0  0  0  1  0 33  0  0]\n",
            " [ 0  0  0  1  0  0  0  2 33  0]\n",
            " [ 0  1  0  3  0  2  0  1  3 25]]\n"
          ]
        },
        {
          "data": {
            "image/png": "[encoded data removed]",
            "text/plain": [
              "<Figure size 432x288 with 2 Axes>"
            ]
          },
          "metadata": {
            "needs_background": "light"
          },
          "output_type": "display_data"
        },
        {
          "name": "stdout",
          "output_type": "stream",
          "text": [
            "----- Multinomial Naive Bayes -----\n",
            "Accuracy # 0  :  0.9111111111111111\n",
            "Learning Time # 0  :  0.0183255672454834\n",
            "Prediction Time # 0  :  0.00042819976806640625\n",
            "\n",
            "Classification report for classifier MultinomialNB():\n",
            "              precision    recall  f1-score   support\n",
            "\n",
            "           0       1.00      1.00      1.00        35\n",
            "           1       0.85      0.80      0.82        35\n",
            "           2       0.92      0.92      0.92        38\n",
            "           3       1.00      0.93      0.96        43\n",
            "           4       1.00      0.97      0.98        33\n",
            "           5       0.97      0.80      0.88        35\n",
            "           6       0.97      1.00      0.99        36\n",
            "           7       0.92      0.97      0.94        34\n",
            "           8       0.81      0.81      0.81        36\n",
            "           9       0.73      0.91      0.81        35\n",
            "\n",
            "    accuracy                           0.91       360\n",
            "   macro avg       0.92      0.91      0.91       360\n",
            "weighted avg       0.92      0.91      0.91       360\n",
            "\n",
            "\n",
            "Confusion matrix:\n",
            "[[35  0  0  0  0  0  0  0  0  0]\n",
            " [ 0 28  3  0  0  0  0  0  1  3]\n",
            " [ 0  0 35  0  0  0  0  0  2  1]\n",
            " [ 0  0  0 40  0  0  0  0  2  1]\n",
            " [ 0  0  0  0 32  0  0  1  0  0]\n",
            " [ 0  0  0  0  0 28  1  0  1  5]\n",
            " [ 0  0  0  0  0  0 36  0  0  0]\n",
            " [ 0  0  0  0  0  0  0 33  0  1]\n",
            " [ 0  5  0  0  0  0  0  1 29  1]\n",
            " [ 0  0  0  0  0  1  0  1  1 32]]\n"
          ]
        },
        {
          "data": {
            "image/png": "[encoded data removed]",
            "text/plain": [
              "<Figure size 432x288 with 2 Axes>"
            ]
          },
          "metadata": {
            "needs_background": "light"
          },
          "output_type": "display_data"
        },
        {
          "name": "stdout",
          "output_type": "stream",
          "text": [
            "----- k-NN -----\n",
            "Accuracy # 0  :  0.9805555555555555\n",
            "Learning Time # 0  :  0.0033025741577148438\n",
            "Prediction Time # 0  :  0.07007384300231934\n",
            "\n",
            "Classification report for classifier KNeighborsClassifier():\n",
            "              precision    recall  f1-score   support\n",
            "\n",
            "           0       1.00      1.00      1.00        35\n",
            "           1       0.95      1.00      0.97        35\n",
            "           2       1.00      0.97      0.99        38\n",
            "           3       0.98      1.00      0.99        43\n",
            "           4       1.00      1.00      1.00        33\n",
            "           5       0.97      0.97      0.97        35\n",
            "           6       0.97      1.00      0.99        36\n",
            "           7       1.00      0.97      0.99        34\n",
            "           8       0.97      0.94      0.96        36\n",
            "           9       0.97      0.94      0.96        35\n",
            "\n",
            "    accuracy                           0.98       360\n",
            "   macro avg       0.98      0.98      0.98       360\n",
            "weighted avg       0.98      0.98      0.98       360\n",
            "\n",
            "\n",
            "Confusion matrix:\n",
            "[[35  0  0  0  0  0  0  0  0  0]\n",
            " [ 0 35  0  0  0  0  0  0  0  0]\n",
            " [ 0  0 37  1  0  0  0  0  0  0]\n",
            " [ 0  0  0 43  0  0  0  0  0  0]\n",
            " [ 0  0  0  0 33  0  0  0  0  0]\n",
            " [ 0  0  0  0  0 34  1  0  0  0]\n",
            " [ 0  0  0  0  0  0 36  0  0  0]\n",
            " [ 0  0  0  0  0  0  0 33  0  1]\n",
            " [ 0  2  0  0  0  0  0  0 34  0]\n",
            " [ 0  0  0  0  0  1  0  0  1 33]]\n"
          ]
        },
        {
          "data": {
            "image/png": "[encoded data removed]",
            "text/plain": [
              "<Figure size 432x288 with 2 Axes>"
            ]
          },
          "metadata": {
            "needs_background": "light"
          },
          "output_type": "display_data"
        },
        {
          "name": "stdout",
          "output_type": "stream",
          "text": [
            "iteration #1\n"
          ]
        },
        {
          "name": "stderr",
          "output_type": "stream",
          "text": [
            "/usr/local/lib/python3.8/dist-packages/sklearn/linear_model/_logistic.py:814: ConvergenceWarning: lbfgs failed to converge (status=1):\n",
            "STOP: TOTAL NO. of ITERATIONS REACHED LIMIT.\n",
            "\n",
            "Increase the number of iterations (max_iter) or scale the data as shown in:\n",
            "    https://scikit-learn.org/stable/modules/preprocessing.html\n",
            "Please also refer to the documentation for alternative solver options:\n",
            "    https://scikit-learn.org/stable/modules/linear_model.html#logistic-regression\n",
            "  n_iter_i = _check_optimize_result(\n"
          ]
        },
        {
          "name": "stdout",
          "output_type": "stream",
          "text": [
            "----- Logistic Regression -----\n",
            "Accuracy # 1  :  0.9722222222222222\n",
            "Learning Time # 1  :  0.6921350955963135\n",
            "Prediction Time # 1  :  0.0007817745208740234\n",
            "\n",
            "----- Stochastic Gradient Descent -----\n",
            "Accuracy # 1  :  0.9666666666666667\n",
            "Learning Time # 1  :  0.15513253211975098\n",
            "Prediction Time # 1  :  0.00047016143798828125\n",
            "\n",
            "----- LDA -----\n",
            "Accuracy # 1  :  0.9555555555555556\n",
            "Learning Time # 1  :  0.051527976989746094\n",
            "Prediction Time # 1  :  0.00044226646423339844\n",
            "\n",
            "----- Multi-layer Perceptron -----\n",
            "Accuracy # 1  :  0.975\n",
            "Learning Time # 1  :  6.533743381500244\n",
            "Prediction Time # 1  :  0.0016238689422607422\n",
            "\n",
            "----- Linear SVM -----\n",
            "Accuracy # 1  :  0.9833333333333333\n",
            "Learning Time # 1  :  0.13111233711242676\n",
            "Prediction Time # 1  :  0.024694204330444336\n",
            "\n",
            "----- Non-linear SVM -----\n",
            "Accuracy # 1  :  0.9888888888888889\n",
            "Learning Time # 1  :  0.13651299476623535\n",
            "Prediction Time # 1  :  0.12111306190490723\n",
            "\n",
            "----- Gaussian Naive Bayes -----\n",
            "Accuracy # 1  :  0.825\n",
            "Learning Time # 1  :  0.008483171463012695\n",
            "Prediction Time # 1  :  0.002190113067626953\n",
            "\n",
            "----- Multinomial Naive Bayes -----\n",
            "Accuracy # 1  :  0.8861111111111111\n",
            "Learning Time # 1  :  0.0067043304443359375\n",
            "Prediction Time # 1  :  0.0003414154052734375\n",
            "\n",
            "----- k-NN -----\n",
            "Accuracy # 1  :  0.9888888888888889\n",
            "Learning Time # 1  :  0.0007195472717285156\n",
            "Prediction Time # 1  :  0.07176017761230469\n",
            "\n",
            "iteration #2\n"
          ]
        },
        {
          "name": "stderr",
          "output_type": "stream",
          "text": [
            "/usr/local/lib/python3.8/dist-packages/sklearn/linear_model/_logistic.py:814: ConvergenceWarning: lbfgs failed to converge (status=1):\n",
            "STOP: TOTAL NO. of ITERATIONS REACHED LIMIT.\n",
            "\n",
            "Increase the number of iterations (max_iter) or scale the data as shown in:\n",
            "    https://scikit-learn.org/stable/modules/preprocessing.html\n",
            "Please also refer to the documentation for alternative solver options:\n",
            "    https://scikit-learn.org/stable/modules/linear_model.html#logistic-regression\n",
            "  n_iter_i = _check_optimize_result(\n"
          ]
        },
        {
          "name": "stdout",
          "output_type": "stream",
          "text": [
            "----- Logistic Regression -----\n",
            "Accuracy # 2  :  0.9722222222222222\n",
            "Learning Time # 2  :  0.7620117664337158\n",
            "Prediction Time # 2  :  0.0011012554168701172\n",
            "\n",
            "----- Stochastic Gradient Descent -----\n",
            "Accuracy # 2  :  0.9527777777777777\n",
            "Learning Time # 2  :  0.15580224990844727\n",
            "Prediction Time # 2  :  0.0004761219024658203\n",
            "\n",
            "----- LDA -----\n",
            "Accuracy # 2  :  0.95\n",
            "Learning Time # 2  :  0.05210113525390625\n",
            "Prediction Time # 2  :  0.000400543212890625\n",
            "\n",
            "----- Multi-layer Perceptron -----\n",
            "Accuracy # 2  :  0.9638888888888889\n",
            "Learning Time # 2  :  2.155317783355713\n",
            "Prediction Time # 2  :  0.0016164779663085938\n",
            "\n",
            "----- Linear SVM -----\n",
            "Accuracy # 2  :  0.9722222222222222\n",
            "Learning Time # 2  :  0.04321622848510742\n",
            "Prediction Time # 2  :  0.010413885116577148\n",
            "\n",
            "----- Non-linear SVM -----\n",
            "Accuracy # 2  :  0.9861111111111112\n",
            "Learning Time # 2  :  0.07538557052612305\n",
            "Prediction Time # 2  :  0.02653813362121582\n",
            "\n",
            "----- Gaussian Naive Bayes -----\n",
            "Accuracy # 2  :  0.8361111111111111\n",
            "Learning Time # 2  :  0.005622386932373047\n",
            "Prediction Time # 2  :  0.0014622211456298828\n",
            "\n",
            "----- Multinomial Naive Bayes -----\n",
            "Accuracy # 2  :  0.8861111111111111\n",
            "Learning Time # 2  :  0.006262779235839844\n",
            "Prediction Time # 2  :  0.0003390312194824219\n",
            "\n",
            "----- k-NN -----\n",
            "Accuracy # 2  :  0.9861111111111112\n",
            "Learning Time # 2  :  0.0006527900695800781\n",
            "Prediction Time # 2  :  0.04585838317871094\n",
            "\n",
            "iteration #3\n"
          ]
        },
        {
          "name": "stderr",
          "output_type": "stream",
          "text": [
            "/usr/local/lib/python3.8/dist-packages/sklearn/linear_model/_logistic.py:814: ConvergenceWarning: lbfgs failed to converge (status=1):\n",
            "STOP: TOTAL NO. of ITERATIONS REACHED LIMIT.\n",
            "\n",
            "Increase the number of iterations (max_iter) or scale the data as shown in:\n",
            "    https://scikit-learn.org/stable/modules/preprocessing.html\n",
            "Please also refer to the documentation for alternative solver options:\n",
            "    https://scikit-learn.org/stable/modules/linear_model.html#logistic-regression\n",
            "  n_iter_i = _check_optimize_result(\n"
          ]
        },
        {
          "name": "stdout",
          "output_type": "stream",
          "text": [
            "----- Logistic Regression -----\n",
            "Accuracy # 3  :  0.9694444444444444\n",
            "Learning Time # 3  :  0.32398557662963867\n",
            "Prediction Time # 3  :  0.00037932395935058594\n",
            "\n",
            "----- Stochastic Gradient Descent -----\n",
            "Accuracy # 3  :  0.9444444444444444\n",
            "Learning Time # 3  :  0.11089897155761719\n",
            "Prediction Time # 3  :  0.0004830360412597656\n",
            "\n",
            "----- LDA -----\n",
            "Accuracy # 3  :  0.9472222222222222\n",
            "Learning Time # 3  :  0.020746707916259766\n",
            "Prediction Time # 3  :  0.0003933906555175781\n",
            "\n",
            "----- Multi-layer Perceptron -----\n",
            "Accuracy # 3  :  0.9805555555555555\n",
            "Learning Time # 3  :  2.386636972427368\n",
            "Prediction Time # 3  :  0.0015704631805419922\n",
            "\n",
            "----- Linear SVM -----\n",
            "Accuracy # 3  :  0.9833333333333333\n",
            "Learning Time # 3  :  0.04889369010925293\n",
            "Prediction Time # 3  :  0.009888172149658203\n",
            "\n",
            "----- Non-linear SVM -----\n",
            "Accuracy # 3  :  0.9916666666666667\n",
            "Learning Time # 3  :  0.06971192359924316\n",
            "Prediction Time # 3  :  0.02641153335571289\n",
            "\n",
            "----- Gaussian Naive Bayes -----\n",
            "Accuracy # 3  :  0.8527777777777777\n",
            "Learning Time # 3  :  0.004372835159301758\n",
            "Prediction Time # 3  :  0.0014827251434326172\n",
            "\n",
            "----- Multinomial Naive Bayes -----\n",
            "Accuracy # 3  :  0.8916666666666667\n",
            "Learning Time # 3  :  0.006588935852050781\n",
            "Prediction Time # 3  :  0.00041937828063964844\n",
            "\n",
            "----- k-NN -----\n",
            "Accuracy # 3  :  0.9944444444444445\n",
            "Learning Time # 3  :  0.0006814002990722656\n",
            "Prediction Time # 3  :  0.04331064224243164\n",
            "\n",
            "iteration #4\n"
          ]
        },
        {
          "name": "stderr",
          "output_type": "stream",
          "text": [
            "/usr/local/lib/python3.8/dist-packages/sklearn/linear_model/_logistic.py:814: ConvergenceWarning: lbfgs failed to converge (status=1):\n",
            "STOP: TOTAL NO. of ITERATIONS REACHED LIMIT.\n",
            "\n",
            "Increase the number of iterations (max_iter) or scale the data as shown in:\n",
            "    https://scikit-learn.org/stable/modules/preprocessing.html\n",
            "Please also refer to the documentation for alternative solver options:\n",
            "    https://scikit-learn.org/stable/modules/linear_model.html#logistic-regression\n",
            "  n_iter_i = _check_optimize_result(\n"
          ]
        },
        {
          "name": "stdout",
          "output_type": "stream",
          "text": [
            "----- Logistic Regression -----\n",
            "Accuracy # 4  :  0.975\n",
            "Learning Time # 4  :  0.319765567779541\n",
            "Prediction Time # 4  :  0.0007035732269287109\n",
            "\n",
            "----- Stochastic Gradient Descent -----\n",
            "Accuracy # 4  :  0.9527777777777777\n",
            "Learning Time # 4  :  0.07364869117736816\n",
            "Prediction Time # 4  :  0.0004048347473144531\n",
            "\n",
            "----- LDA -----\n",
            "Accuracy # 4  :  0.9666666666666667\n",
            "Learning Time # 4  :  0.035930633544921875\n",
            "Prediction Time # 4  :  0.00046324729919433594\n",
            "\n",
            "----- Multi-layer Perceptron -----\n",
            "Accuracy # 4  :  0.9944444444444445\n",
            "Learning Time # 4  :  2.0657918453216553\n",
            "Prediction Time # 4  :  0.0017557144165039062\n",
            "\n",
            "----- Linear SVM -----\n",
            "Accuracy # 4  :  0.9805555555555555\n",
            "Learning Time # 4  :  0.04738044738769531\n",
            "Prediction Time # 4  :  0.010317325592041016\n",
            "\n",
            "----- Non-linear SVM -----\n",
            "Accuracy # 4  :  0.9916666666666667\n",
            "Learning Time # 4  :  0.07243990898132324\n",
            "Prediction Time # 4  :  0.0266265869140625\n",
            "\n",
            "----- Gaussian Naive Bayes -----\n",
            "Accuracy # 4  :  0.8388888888888889\n",
            "Learning Time # 4  :  0.0068035125732421875\n",
            "Prediction Time # 4  :  0.0013575553894042969\n",
            "\n",
            "----- Multinomial Naive Bayes -----\n",
            "Accuracy # 4  :  0.9166666666666666\n",
            "Learning Time # 4  :  0.007039785385131836\n",
            "Prediction Time # 4  :  0.000274658203125\n",
            "\n",
            "----- k-NN -----\n",
            "Accuracy # 4  :  0.9861111111111112\n",
            "Learning Time # 4  :  0.0006172657012939453\n",
            "Prediction Time # 4  :  0.03866243362426758\n",
            "\n",
            "iteration #5\n"
          ]
        },
        {
          "name": "stderr",
          "output_type": "stream",
          "text": [
            "/usr/local/lib/python3.8/dist-packages/sklearn/linear_model/_logistic.py:814: ConvergenceWarning: lbfgs failed to converge (status=1):\n",
            "STOP: TOTAL NO. of ITERATIONS REACHED LIMIT.\n",
            "\n",
            "Increase the number of iterations (max_iter) or scale the data as shown in:\n",
            "    https://scikit-learn.org/stable/modules/preprocessing.html\n",
            "Please also refer to the documentation for alternative solver options:\n",
            "    https://scikit-learn.org/stable/modules/linear_model.html#logistic-regression\n",
            "  n_iter_i = _check_optimize_result(\n"
          ]
        },
        {
          "name": "stdout",
          "output_type": "stream",
          "text": [
            "----- Logistic Regression -----\n",
            "Accuracy # 5  :  0.9611111111111111\n",
            "Learning Time # 5  :  0.32150983810424805\n",
            "Prediction Time # 5  :  0.00035572052001953125\n",
            "\n",
            "----- Stochastic Gradient Descent -----\n",
            "Accuracy # 5  :  0.9444444444444444\n",
            "Learning Time # 5  :  0.09378838539123535\n",
            "Prediction Time # 5  :  0.0004589557647705078\n",
            "\n",
            "----- LDA -----\n",
            "Accuracy # 5  :  0.9555555555555556\n",
            "Learning Time # 5  :  0.02354574203491211\n",
            "Prediction Time # 5  :  0.000392913818359375\n",
            "\n",
            "----- Multi-layer Perceptron -----\n",
            "Accuracy # 5  :  0.9888888888888889\n",
            "Learning Time # 5  :  1.9964022636413574\n",
            "Prediction Time # 5  :  0.001630544662475586\n",
            "\n",
            "----- Linear SVM -----\n",
            "Accuracy # 5  :  0.9861111111111112\n",
            "Learning Time # 5  :  0.05473518371582031\n",
            "Prediction Time # 5  :  0.009767770767211914\n",
            "\n",
            "----- Non-linear SVM -----\n",
            "Accuracy # 5  :  0.9888888888888889\n",
            "Learning Time # 5  :  0.06828069686889648\n",
            "Prediction Time # 5  :  0.02697610855102539\n",
            "\n",
            "----- Gaussian Naive Bayes -----\n",
            "Accuracy # 5  :  0.825\n",
            "Learning Time # 5  :  0.006453514099121094\n",
            "Prediction Time # 5  :  0.0013468265533447266\n",
            "\n",
            "----- Multinomial Naive Bayes -----\n",
            "Accuracy # 5  :  0.925\n",
            "Learning Time # 5  :  0.01013040542602539\n",
            "Prediction Time # 5  :  0.00032806396484375\n",
            "\n",
            "----- k-NN -----\n",
            "Accuracy # 5  :  0.9916666666666667\n",
            "Learning Time # 5  :  0.0006737709045410156\n",
            "Prediction Time # 5  :  0.045493364334106445\n",
            "\n",
            "iteration #6\n"
          ]
        },
        {
          "name": "stderr",
          "output_type": "stream",
          "text": [
            "/usr/local/lib/python3.8/dist-packages/sklearn/linear_model/_logistic.py:814: ConvergenceWarning: lbfgs failed to converge (status=1):\n",
            "STOP: TOTAL NO. of ITERATIONS REACHED LIMIT.\n",
            "\n",
            "Increase the number of iterations (max_iter) or scale the data as shown in:\n",
            "    https://scikit-learn.org/stable/modules/preprocessing.html\n",
            "Please also refer to the documentation for alternative solver options:\n",
            "    https://scikit-learn.org/stable/modules/linear_model.html#logistic-regression\n",
            "  n_iter_i = _check_optimize_result(\n"
          ]
        },
        {
          "name": "stdout",
          "output_type": "stream",
          "text": [
            "----- Logistic Regression -----\n",
            "Accuracy # 6  :  0.9694444444444444\n",
            "Learning Time # 6  :  0.3104684352874756\n",
            "Prediction Time # 6  :  0.0003731250762939453\n",
            "\n",
            "----- Stochastic Gradient Descent -----\n",
            "Accuracy # 6  :  0.9527777777777777\n",
            "Learning Time # 6  :  0.0788116455078125\n",
            "Prediction Time # 6  :  0.0004448890686035156\n",
            "\n",
            "----- LDA -----\n",
            "Accuracy # 6  :  0.95\n",
            "Learning Time # 6  :  0.02728748321533203\n",
            "Prediction Time # 6  :  0.00041413307189941406\n",
            "\n",
            "----- Multi-layer Perceptron -----\n",
            "Accuracy # 6  :  0.9722222222222222\n",
            "Learning Time # 6  :  1.9945571422576904\n",
            "Prediction Time # 6  :  0.0014243125915527344\n",
            "\n",
            "----- Linear SVM -----\n",
            "Accuracy # 6  :  0.9694444444444444\n",
            "Learning Time # 6  :  0.04556727409362793\n",
            "Prediction Time # 6  :  0.010170459747314453\n",
            "\n",
            "----- Non-linear SVM -----\n",
            "Accuracy # 6  :  0.9861111111111112\n",
            "Learning Time # 6  :  0.07164311408996582\n",
            "Prediction Time # 6  :  0.0257260799407959\n",
            "\n",
            "----- Gaussian Naive Bayes -----\n",
            "Accuracy # 6  :  0.8055555555555556\n",
            "Learning Time # 6  :  0.007650136947631836\n",
            "Prediction Time # 6  :  0.0013306140899658203\n",
            "\n",
            "----- Multinomial Naive Bayes -----\n",
            "Accuracy # 6  :  0.8861111111111111\n",
            "Learning Time # 6  :  0.0074825286865234375\n",
            "Prediction Time # 6  :  0.0003020763397216797\n",
            "\n",
            "----- k-NN -----\n",
            "Accuracy # 6  :  0.9805555555555555\n",
            "Learning Time # 6  :  0.0006248950958251953\n",
            "Prediction Time # 6  :  0.0435178279876709\n",
            "\n",
            "iteration #7\n"
          ]
        },
        {
          "name": "stderr",
          "output_type": "stream",
          "text": [
            "/usr/local/lib/python3.8/dist-packages/sklearn/linear_model/_logistic.py:814: ConvergenceWarning: lbfgs failed to converge (status=1):\n",
            "STOP: TOTAL NO. of ITERATIONS REACHED LIMIT.\n",
            "\n",
            "Increase the number of iterations (max_iter) or scale the data as shown in:\n",
            "    https://scikit-learn.org/stable/modules/preprocessing.html\n",
            "Please also refer to the documentation for alternative solver options:\n",
            "    https://scikit-learn.org/stable/modules/linear_model.html#logistic-regression\n",
            "  n_iter_i = _check_optimize_result(\n"
          ]
        },
        {
          "name": "stdout",
          "output_type": "stream",
          "text": [
            "----- Logistic Regression -----\n",
            "Accuracy # 7  :  0.9611111111111111\n",
            "Learning Time # 7  :  0.3179507255554199\n",
            "Prediction Time # 7  :  0.00035452842712402344\n",
            "\n",
            "----- Stochastic Gradient Descent -----\n",
            "Accuracy # 7  :  0.9361111111111111\n",
            "Learning Time # 7  :  0.09125709533691406\n",
            "Prediction Time # 7  :  0.0004200935363769531\n",
            "\n",
            "----- LDA -----\n",
            "Accuracy # 7  :  0.9611111111111111\n",
            "Learning Time # 7  :  0.029252290725708008\n",
            "Prediction Time # 7  :  0.0004131793975830078\n",
            "\n",
            "----- Multi-layer Perceptron -----\n",
            "Accuracy # 7  :  0.975\n",
            "Learning Time # 7  :  2.2008249759674072\n",
            "Prediction Time # 7  :  0.0016057491302490234\n",
            "\n",
            "----- Linear SVM -----\n",
            "Accuracy # 7  :  0.9861111111111112\n",
            "Learning Time # 7  :  0.048337459564208984\n",
            "Prediction Time # 7  :  0.010374307632446289\n",
            "\n",
            "----- Non-linear SVM -----\n",
            "Accuracy # 7  :  0.9833333333333333\n",
            "Learning Time # 7  :  0.07213330268859863\n",
            "Prediction Time # 7  :  0.027833223342895508\n",
            "\n",
            "----- Gaussian Naive Bayes -----\n",
            "Accuracy # 7  :  0.8583333333333333\n",
            "Learning Time # 7  :  0.007190704345703125\n",
            "Prediction Time # 7  :  0.0013651847839355469\n",
            "\n",
            "----- Multinomial Naive Bayes -----\n",
            "Accuracy # 7  :  0.9166666666666666\n",
            "Learning Time # 7  :  0.009258747100830078\n",
            "Prediction Time # 7  :  0.00033783912658691406\n",
            "\n",
            "----- k-NN -----\n",
            "Accuracy # 7  :  0.9916666666666667\n",
            "Learning Time # 7  :  0.0006766319274902344\n",
            "Prediction Time # 7  :  0.03897547721862793\n",
            "\n",
            "iteration #8\n"
          ]
        },
        {
          "name": "stderr",
          "output_type": "stream",
          "text": [
            "/usr/local/lib/python3.8/dist-packages/sklearn/linear_model/_logistic.py:814: ConvergenceWarning: lbfgs failed to converge (status=1):\n",
            "STOP: TOTAL NO. of ITERATIONS REACHED LIMIT.\n",
            "\n",
            "Increase the number of iterations (max_iter) or scale the data as shown in:\n",
            "    https://scikit-learn.org/stable/modules/preprocessing.html\n",
            "Please also refer to the documentation for alternative solver options:\n",
            "    https://scikit-learn.org/stable/modules/linear_model.html#logistic-regression\n",
            "  n_iter_i = _check_optimize_result(\n"
          ]
        },
        {
          "name": "stdout",
          "output_type": "stream",
          "text": [
            "----- Logistic Regression -----\n",
            "Accuracy # 8  :  0.9583333333333334\n",
            "Learning Time # 8  :  0.3222651481628418\n",
            "Prediction Time # 8  :  0.0003437995910644531\n",
            "\n",
            "----- Stochastic Gradient Descent -----\n",
            "Accuracy # 8  :  0.9472222222222222\n",
            "Learning Time # 8  :  0.07960915565490723\n",
            "Prediction Time # 8  :  0.00043845176696777344\n",
            "\n",
            "----- LDA -----\n",
            "Accuracy # 8  :  0.9694444444444444\n",
            "Learning Time # 8  :  0.0269777774810791\n",
            "Prediction Time # 8  :  0.00041484832763671875\n",
            "\n"
          ]
        }
      ],
      "source": [
        "eachAccuracy = [[0 for col in range(len(names))] for row in range(iteration)]\n",
        "learningTime = [[0 for col in range(len(names))] for row in range(iteration)]\n",
        "predictTime = [[0 for col in range(len(names))] for row in range(iteration)]\n",
        "\n",
        "for i in range(iteration):\n",
        "  j = 0\n",
        "\n",
        "  X_train, X_test, y_train, y_test = train_test_split(X, y, test_size=0.2, shuffle=True)\n",
        "\n",
        "  print(\"iteration #\" + str(i))\n",
        "  for name, clf in zip(names, classifiers):\n",
        "    start = time.time()\n",
        "    clf.fit(X_train, y_train)\n",
        "    fitTime = time.time() - start\n",
        "\n",
        "    start = time.time()\n",
        "    y_pred = clf.predict(X_test)\n",
        "    predictionTime = time.time() - start\n",
        "\n",
        "    print(\"----- \" + name + \" -----\")\n",
        "    accuracy = metrics.accuracy_score(y_test, y_pred)\n",
        "    print(\"Accuracy #\", i, \" : \", accuracy)\n",
        "    eachAccuracy[i][j] = accuracy\n",
        "    \n",
        "    print(\"Learning Time #\", i, \" : \",  fitTime)\n",
        "    learningTime[i][j] = fitTime\n",
        "    print(\"Prediction Time #\", i, \" : \", predictionTime)\n",
        "    predictTime[i][j] = predictionTime\n",
        "    print()\n",
        "\n",
        "    j = j+1\n",
        "\n",
        "    if (i == 0):\n",
        "      print(\n",
        "        f\"Classification report for classifier {clf}:\\n\"\n",
        "        f\"{metrics.classification_report(y_test, y_pred)}\\n\"\n",
        "      )\n",
        "\n",
        "      disp = metrics.ConfusionMatrixDisplay.from_predictions(y_test, y_pred)\n",
        "      disp.figure_.suptitle(\"Confusion Matrix - \" + name)\n",
        "      print(f\"Confusion matrix:\\n{disp.confusion_matrix}\")\n",
        "\n",
        "      plt.show()"
      ]
    },
    {
      "cell_type": "code",
      "execution_count": null,
      "metadata": {
        "colab": {
          "base_uri": "https://localhost:8080/"
        },
        "id": "HKAt1XpQ6LwH",
        "outputId": "cbe657a5-82a0-40da-f850-b96114ee46b1"
      },
      "outputs": [
        {
          "name": "stdout",
          "output_type": "stream",
          "text": [
            "Average Accuracy\n",
            "\n",
            "0.963949999999998 - Logistic Regression\n",
            "0.9484472222222226 - Stochastic Gradient Descent\n",
            "0.952752777777779 - LDA\n",
            "0.9748333333333336 - Multi-layer Perceptron\n",
            "0.9789944444444456 - Linear SVM\n",
            "0.9874583333333389 - Non-linear SVM\n",
            "0.8397444444444448 - Gaussian Naive Bayes\n",
            "0.8991388888888874 - Multinomial Naive Bayes\n",
            "0.9858861111111161 - k-NN\n"
          ]
        }
      ],
      "source": [
        "# iteration 횟수만큼 계산 시 평균 accuracy\n",
        "print(\"Average Accuracy\\n\")\n",
        "\n",
        "for j in range(len(names)):\n",
        "  accuracy = 0\n",
        "\n",
        "  for i in range(iteration):\n",
        "    accuracy += eachAccuracy[i][j]\n",
        "  \n",
        "  print(str(accuracy / iteration) + \" - \" + names[j])"
      ]
    },
    {
      "cell_type": "code",
      "execution_count": null,
      "metadata": {
        "colab": {
          "base_uri": "https://localhost:8080/"
        },
        "id": "eIqJhByaug6z",
        "outputId": "33f42f05-bcd8-46ea-8b14-6d101323d272"
      },
      "outputs": [
        {
          "name": "stdout",
          "output_type": "stream",
          "text": [
            "Average Learning time\n",
            "\n",
            "6.415141117811203 - Logistic Regression\n",
            "0.08395454120635987 - Stochastic Gradient Descent\n",
            "0.02945189118385315 - LDA\n",
            "1.8870503566265107 - Multi-layer Perceptron\n",
            "0.04657396984100342 - Linear SVM\n",
            "0.07412287473678589 - Non-linear SVM\n",
            "0.0059430313110351565 - Gaussian Naive Bayes\n",
            "0.007804068803787231 - Multinomial Naive Bayes\n",
            "0.0009352695941925048 - k-NN\n"
          ]
        }
      ],
      "source": [
        "# iteration 횟수만큼 계산 시 평균 learning time\n",
        "print(\"Average Learning time\\n\")\n",
        "\n",
        "for j in range(len(names)):\n",
        "  totalTime = 0\n",
        "\n",
        "  for i in range(iteration):\n",
        "    totalTime += learningTime[i][j]\n",
        "  \n",
        "  print(str((totalTime / iteration)) + \" - \" + names[j])"
      ]
    },
    {
      "cell_type": "code",
      "execution_count": null,
      "metadata": {
        "colab": {
          "base_uri": "https://localhost:8080/"
        },
        "id": "Ak-Ra0NZA4JT",
        "outputId": "3f5900e3-d6b4-43bd-d0e8-60559e535764"
      },
      "outputs": [
        {
          "name": "stdout",
          "output_type": "stream",
          "text": [
            "Average Prediction time\n",
            "\n",
            "0.00036408615112304687 - Logistic Regression\n",
            "0.0004385685920715332 - Stochastic Gradient Descent\n",
            "0.0003822817802429199 - LDA\n",
            "0.0015692272186279296 - Multi-layer Perceptron\n",
            "0.010477003335952759 - Linear SVM\n",
            "0.024354923963546753 - Non-linear SVM\n",
            "0.0012876932621002197 - Gaussian Naive Bayes\n",
            "0.00028725862503051756 - Multinomial Naive Bayes\n",
            "0.04484896421432495 - k-NN\n"
          ]
        }
      ],
      "source": [
        "# iteration 횟수만큼 계산 시 평균 prediction time\n",
        "print(\"Average Prediction time\\n\")\n",
        "\n",
        "for j in range(len(names)):\n",
        "  totalTime = 0\n",
        "\n",
        "  for i in range(iteration):\n",
        "    totalTime += predictTime[i][j]\n",
        "  \n",
        "  print(str((totalTime / iteration)) + \" - \" + names[j])"
      ]
    }
  ],
  "metadata": {
    "colab": {
      "provenance": []
    },
    "kernelspec": {
      "display_name": "Python 3",
      "language": "python",
      "name": "python3"
    },
    "language_info": {
      "codemirror_mode": {
        "name": "ipython",
        "version": 3
      },
      "file_extension": ".py",
      "mimetype": "text/x-python",
      "name": "python",
      "nbconvert_exporter": "python",
      "pygments_lexer": "ipython3",
      "version": "3.10.8"
    },
    "vscode": {
      "interpreter": {
        "hash": "b0fa6594d8f4cbf19f97940f81e996739fb7646882a419484c72d19e05852a7e"
      }
    }
  },
  "nbformat": 4,
  "nbformat_minor": 0
}
